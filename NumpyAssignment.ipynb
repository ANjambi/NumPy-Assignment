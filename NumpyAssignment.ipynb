{
 "cells": [
  {
   "cell_type": "markdown",
   "id": "ffc45079",
   "metadata": {},
   "source": [
    "# Numpy Assignment"
   ]
  },
  {
   "cell_type": "code",
   "execution_count": 1,
   "id": "4662ed1c",
   "metadata": {},
   "outputs": [],
   "source": [
    "import numpy as np\n",
    "heights = np.array([160, 155, 172, 165, 180, 158, 175, 163, 171, 168])"
   ]
  },
  {
   "cell_type": "code",
   "execution_count": 2,
   "id": "20dc34cf",
   "metadata": {},
   "outputs": [
    {
     "name": "stdout",
     "output_type": "stream",
     "text": [
      "166.7\n",
      "166.7\n"
     ]
    }
   ],
   "source": [
    "# Calculate the mean of the students' heights\n",
    "heights_mean = heights.mean()\n",
    "print(heights_mean)\n",
    "\n",
    "# or \n",
    "\n",
    "heights_av = np.mean(heights)\n",
    "print(heights_av)"
   ]
  },
  {
   "cell_type": "code",
   "execution_count": 3,
   "id": "941554fd",
   "metadata": {},
   "outputs": [
    {
     "name": "stdout",
     "output_type": "stream",
     "text": [
      "166.5\n"
     ]
    }
   ],
   "source": [
    "# Calculate the median of the students' heights\n",
    "heights_median = np.median(heights)\n",
    "print(heights_median)"
   ]
  },
  {
   "cell_type": "code",
   "execution_count": 4,
   "id": "5b416cbf",
   "metadata": {},
   "outputs": [
    {
     "name": "stdout",
     "output_type": "stream",
     "text": [
      "7.5372408744845085\n"
     ]
    }
   ],
   "source": [
    "# Calculate the standard deviation of the students' heights\n",
    "heights_std = np.std(heights)\n",
    "print(heights_std)"
   ]
  },
  {
   "cell_type": "code",
   "execution_count": 5,
   "id": "a026d705",
   "metadata": {},
   "outputs": [
    {
     "name": "stdout",
     "output_type": "stream",
     "text": [
      "[-0.88891945 -1.55229217  0.70317509 -0.22554673  1.76457144 -1.15426854\n",
      "  1.10119872 -0.49089581  0.57050054  0.17247691]\n"
     ]
    }
   ],
   "source": [
    "# Create a new array with the heights normalized, i.e.,\n",
    "# each height value should be transformed to have a mean of 0 and a standard deviation of 1.\n",
    "\n",
    "heights_normalized = (heights - heights_mean)/heights_std\n",
    "print(heights_normalized)\n"
   ]
  },
  {
   "cell_type": "code",
   "execution_count": 6,
   "id": "5b8e764c",
   "metadata": {},
   "outputs": [
    {
     "name": "stdout",
     "output_type": "stream",
     "text": [
      "1.50712775592865e-15\n",
      "0.9999999999999999\n"
     ]
    }
   ],
   "source": [
    "print(np.mean(heights_normalized))\n",
    "print(np.std(heights_normalized))"
   ]
  },
  {
   "cell_type": "code",
   "execution_count": 7,
   "id": "ffd9661d",
   "metadata": {},
   "outputs": [
    {
     "name": "stdout",
     "output_type": "stream",
     "text": [
      "1\n"
     ]
    }
   ],
   "source": [
    "# Determine the shortest student in the class using NumPy's argmin function\n",
    "shortest = heights.argmin()\n",
    "print(shortest)"
   ]
  },
  {
   "cell_type": "code",
   "execution_count": 8,
   "id": "6dd18dd2",
   "metadata": {},
   "outputs": [
    {
     "name": "stdout",
     "output_type": "stream",
     "text": [
      "4\n"
     ]
    }
   ],
   "source": [
    "# Determine the tallest student in the class using NumPy's argmax function\n",
    "tallest = heights.argmax()\n",
    "print(tallest)"
   ]
  },
  {
   "cell_type": "code",
   "execution_count": 9,
   "id": "12a25e52",
   "metadata": {},
   "outputs": [
    {
     "name": "stdout",
     "output_type": "stream",
     "text": [
      "25\n",
      "25\n"
     ]
    }
   ],
   "source": [
    "# Calculate the difference between the tallest and shortest students' heights.\n",
    "height_range = heights.ptp() # peak_to_peak()\n",
    "print(height_range)\n",
    "\n",
    "# or\n",
    "\n",
    "height_range1 = heights.max() - heights.min()\n",
    "print(height_range1)"
   ]
  },
  {
   "cell_type": "code",
   "execution_count": 10,
   "id": "1280f03c",
   "metadata": {},
   "outputs": [],
   "source": [
    "# Original array\n",
    "\n",
    "heights = np.array([160, 155, 172, 165, 180, 158, 175, 163, 171, 168])"
   ]
  },
  {
   "cell_type": "code",
   "execution_count": 11,
   "id": "629ebe6e",
   "metadata": {},
   "outputs": [
    {
     "name": "stdout",
     "output_type": "stream",
     "text": [
      "[180 155 172 168 175]\n"
     ]
    }
   ],
   "source": [
    "# Randomly select 5 heights from the dataset without replacement.\n",
    "height_random = np.random.choice(heights, 5, replace = False)\n",
    "print(height_random)"
   ]
  },
  {
   "cell_type": "code",
   "execution_count": 12,
   "id": "1ac5c1e3",
   "metadata": {},
   "outputs": [
    {
     "name": "stdout",
     "output_type": "stream",
     "text": [
      "[160 171 168 158 172]\n"
     ]
    }
   ],
   "source": [
    "# Randomly select 5 heights from the dataset without replacement.\n",
    "height_random = np.random.choice(heights, 5, replace = False)\n",
    "print(height_random)"
   ]
  },
  {
   "cell_type": "code",
   "execution_count": 13,
   "id": "98430ec5",
   "metadata": {},
   "outputs": [
    {
     "name": "stdout",
     "output_type": "stream",
     "text": [
      "[180 155 171 172 158]\n"
     ]
    }
   ],
   "source": [
    "np.random.seed(659)\n",
    "# Randomly select 5 heights from the dataset without replacement.\n",
    "height_random = np.random.choice(heights, 5, replace = False)\n",
    "print(height_random)"
   ]
  }
 ],
 "metadata": {
  "kernelspec": {
   "display_name": "Python 3 (ipykernel)",
   "language": "python",
   "name": "python3"
  },
  "language_info": {
   "codemirror_mode": {
    "name": "ipython",
    "version": 3
   },
   "file_extension": ".py",
   "mimetype": "text/x-python",
   "name": "python",
   "nbconvert_exporter": "python",
   "pygments_lexer": "ipython3",
   "version": "3.11.5"
  }
 },
 "nbformat": 4,
 "nbformat_minor": 5
}
